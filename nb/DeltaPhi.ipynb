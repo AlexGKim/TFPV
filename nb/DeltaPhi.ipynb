{
 "cells": [
  {
   "cell_type": "code",
   "execution_count": 1,
   "id": "7b107b58-22a0-4edd-a72d-b2cb03939d4b",
   "metadata": {},
   "outputs": [],
   "source": [
    "import pandas\n",
    "import numpy\n",
    "import matplotlib.pyplot as plt\n",
    "from scipy.stats import cauchy\n",
    "from scipy.stats import t\n",
    "from scipy.stats import norm"
   ]
  },
  {
   "cell_type": "code",
   "execution_count": 2,
   "id": "bcbaad14-f429-45b6-bd39-b09fe93b5674",
   "metadata": {},
   "outputs": [
    {
     "name": "stdout",
     "output_type": "stream",
     "text": [
      "0.7211102550927978\n"
     ]
    }
   ],
   "source": [
    "cosi = 1/numpy.sqrt(2)\n",
    "q0=0.2\n",
    "balim = numpy.sqrt(cosi**2 * (1-q0**2) + q0**2)\n",
    "print(balim)"
   ]
  },
  {
   "cell_type": "code",
   "execution_count": 3,
   "id": "3ec5bb2f-2ba1-4ed2-9a8e-1b801193de53",
   "metadata": {},
   "outputs": [],
   "source": [
    "comalist = [25532,30149,98934,122260,191275,196592,202666,221178,291879,309306,337817,364410,364929,365429,366393,378842,455486,465951,479267,486394,566771,645151,747077,748600,753474,759003,819754,826543,841705,917608,995924,1050173,1167691,1195008,1203610,1203786,1269260,1274409,1284002,1323268,1352019,1356626,1364394,1379275,1387991]"
   ]
  },
  {
   "cell_type": "code",
   "execution_count": 4,
   "id": "8f55bc21-d70a-420e-af4c-de7e49aa87f9",
   "metadata": {},
   "outputs": [],
   "source": [
    "df = pandas.read_csv('../data/SGA_MaNGAdr17-fits_dphi-20240614.txt',delimiter=\" \")"
   ]
  },
  {
   "cell_type": "code",
   "execution_count": 5,
   "id": "e4ba1cec-4654-4b8f-b823-013f8ca6d87f",
   "metadata": {},
   "outputs": [],
   "source": [
    "df_cut = df[df['BA'] < balim]"
   ]
  },
  {
   "cell_type": "code",
   "execution_count": 6,
   "id": "fd51d7f2-5f0b-4abe-b23f-329416fe645b",
   "metadata": {},
   "outputs": [
    {
     "name": "stdout",
     "output_type": "stream",
     "text": [
      "(6, 3)\n"
     ]
    }
   ],
   "source": [
    "df_coma = df[df[\"SGA_ID\"].isin(comalist)]\n",
    "print(df_coma.shape)"
   ]
  },
  {
   "cell_type": "code",
   "execution_count": 7,
   "id": "dc8f26a9-e8f6-449b-998b-ae7d60572d4e",
   "metadata": {},
   "outputs": [
    {
     "data": {
      "text/plain": [
       "(array([1., 1., 0., 1., 1., 0., 0., 0., 1., 0., 0., 0., 0., 0., 0., 0., 0.,\n",
       "        0., 0., 1.]),\n",
       " array([ 1.02636427,  1.48209934,  1.93783441,  2.39356949,  2.84930456,\n",
       "         3.30503963,  3.76077471,  4.21650978,  4.67224485,  5.12797993,\n",
       "         5.583715  ,  6.03945007,  6.49518515,  6.95092022,  7.40665529,\n",
       "         7.86239037,  8.31812544,  8.77386051,  9.22959559,  9.68533066,\n",
       "        10.14106573]),\n",
       " <BarContainer object of 20 artists>)"
      ]
     },
     "execution_count": 7,
     "metadata": {},
     "output_type": "execute_result"
    },
    {
     "data": {
      "image/png": "[encoded data removed]",
      "text/plain": [
       "<Figure size 640x480 with 1 Axes>"
      ]
     },
     "metadata": {},
     "output_type": "display_data"
    }
   ],
   "source": [
    "# plt.hist(df['delta_phi'],bins=50,density=True)\n",
    "plt.hist(df_coma['delta_phi'],bins=20,density=False)\n",
    "# plt.hist(df_coma['delta_phi'][df_coma['BA']<balim],bins=20,density=False)\n",
    "\n",
    "# x = numpy.arange(-100,100,1)\n",
    "# plt.plot(x,cauchy.pdf(x,*fit_c),label='Cauchy')\n",
    "# plt.plot(x,t.pdf(x,*fit_t),label=r\"Student's t: $\\nu={:.3f}$\".format(fit_t[0]))\n",
    "# plt.legend()"
   ]
  },
  {
   "cell_type": "code",
   "execution_count": 8,
   "id": "8c2ff02a-ccaf-4dce-bc43-0d87ef995d22",
   "metadata": {},
   "outputs": [
    {
     "data": {
      "text/html": [
       "<div>\n",
       "<style scoped>\n",
       "    .dataframe tbody tr th:only-of-type {\n",
       "        vertical-align: middle;\n",
       "    }\n",
       "\n",
       "    .dataframe tbody tr th {\n",
       "        vertical-align: top;\n",
       "    }\n",
       "\n",
       "    .dataframe thead th {\n",
       "        text-align: right;\n",
       "    }\n",
       "</style>\n",
       "<table border=\"1\" class=\"dataframe\">\n",
       "  <thead>\n",
       "    <tr style=\"text-align: right;\">\n",
       "      <th></th>\n",
       "      <th>SGA_ID</th>\n",
       "      <th>delta_phi</th>\n",
       "      <th>BA</th>\n",
       "    </tr>\n",
       "  </thead>\n",
       "  <tbody>\n",
       "    <tr>\n",
       "      <th>2194</th>\n",
       "      <td>301137</td>\n",
       "      <td>-89.781324</td>\n",
       "      <td>0.496334</td>\n",
       "    </tr>\n",
       "  </tbody>\n",
       "</table>\n",
       "</div>"
      ],
      "text/plain": [
       "      SGA_ID  delta_phi        BA\n",
       "2194  301137 -89.781324  0.496334"
      ]
     },
     "execution_count": 8,
     "metadata": {},
     "output_type": "execute_result"
    }
   ],
   "source": [
    "df_cut[df_cut[\"delta_phi\"] == df_cut[\"delta_phi\"].min()]"
   ]
  },
  {
   "cell_type": "code",
   "execution_count": 9,
   "id": "ce760cae-11d7-4066-9f9f-5b868d7a1279",
   "metadata": {},
   "outputs": [
    {
     "data": {
      "text/html": [
       "<div>\n",
       "<style scoped>\n",
       "    .dataframe tbody tr th:only-of-type {\n",
       "        vertical-align: middle;\n",
       "    }\n",
       "\n",
       "    .dataframe tbody tr th {\n",
       "        vertical-align: top;\n",
       "    }\n",
       "\n",
       "    .dataframe thead th {\n",
       "        text-align: right;\n",
       "    }\n",
       "</style>\n",
       "<table border=\"1\" class=\"dataframe\">\n",
       "  <thead>\n",
       "    <tr style=\"text-align: right;\">\n",
       "      <th></th>\n",
       "      <th>SGA_ID</th>\n",
       "      <th>delta_phi</th>\n",
       "      <th>BA</th>\n",
       "    </tr>\n",
       "  </thead>\n",
       "  <tbody>\n",
       "    <tr>\n",
       "      <th>1763</th>\n",
       "      <td>1195897</td>\n",
       "      <td>88.727252</td>\n",
       "      <td>0.247709</td>\n",
       "    </tr>\n",
       "  </tbody>\n",
       "</table>\n",
       "</div>"
      ],
      "text/plain": [
       "       SGA_ID  delta_phi        BA\n",
       "1763  1195897  88.727252  0.247709"
      ]
     },
     "execution_count": 9,
     "metadata": {},
     "output_type": "execute_result"
    }
   ],
   "source": [
    "df_cut[df_cut[\"delta_phi\"] == df_cut[\"delta_phi\"].max()]"
   ]
  },
  {
   "cell_type": "code",
   "execution_count": 14,
   "id": "ddd0bb79-84d5-40f0-a6ac-77cdd8cde946",
   "metadata": {},
   "outputs": [
    {
     "data": {
      "text/plain": [
       "88.72725232710485"
      ]
     },
     "execution_count": 14,
     "metadata": {},
     "output_type": "execute_result"
    }
   ],
   "source": [
    "df_cut[\"delta_phi\"].max()"
   ]
  },
  {
   "cell_type": "code",
   "execution_count": 20,
   "id": "b89c3823-5515-4a6a-ba53-0731f40e6ea6",
   "metadata": {},
   "outputs": [],
   "source": [
    "fit_c = cauchy.fit(df_cut,floc=0)\n",
    "fit_t = t.fit(df_cut,floc=0)\n",
    "# fit_n = norm.fit(df_cut,floc=0)"
   ]
  },
  {
   "cell_type": "code",
   "execution_count": 26,
   "id": "85e04dfe-6821-405b-997d-92f3a2e7263f",
   "metadata": {},
   "outputs": [
    {
     "data": {
      "text/plain": [
       "<matplotlib.legend.Legend at 0x135995c10>"
      ]
     },
     "execution_count": 26,
     "metadata": {},
     "output_type": "execute_result"
    },
    {
     "data": {
      "image/png": "[encoded data removed]",
      "text/plain": [
       "<Figure size 640x480 with 1 Axes>"
      ]
     },
     "metadata": {},
     "output_type": "display_data"
    }
   ],
   "source": [
    "# plt.hist(df['delta_phi'],bins=50,density=True)\n",
    "plt.hist(df_cut[\"delta_phi\"],bins=50,density=True)\n",
    "x = numpy.arange(-100,100,1)\n",
    "plt.plot(x,cauchy.pdf(x,*fit_c),label='Cauchy: scale={:.3f}'.format(fit_c[-1]))\n",
    "# plt.plot(x,t.pdf(x,*fit_t),label=r\"Student's t: $\\nu={:.3f}$\".format(fit_t[0]))\n",
    "# plt.plot(x,norm.pdf(x,*fit_n),label=r\"Normal: $\\sigma={:.3f}$\".format(fit_n[0]))\n",
    "plt.legend()\n",
    "# plt.savefig('temp.png')"
   ]
  },
  {
   "cell_type": "code",
   "execution_count": 27,
   "id": "8471bcc5-3281-4af6-915c-28eec8e4c5a1",
   "metadata": {},
   "outputs": [
    {
     "data": {
      "text/plain": [
       "(0, 4.217219770730775)"
      ]
     },
     "execution_count": 27,
     "metadata": {},
     "output_type": "execute_result"
    }
   ],
   "source": [
    "fit_c"
   ]
  },
  {
   "cell_type": "code",
   "execution_count": null,
   "id": "9ade500f-150f-4e54-901c-c6ae3fb89393",
   "metadata": {},
   "outputs": [],
   "source": []
  }
 ],
 "metadata": {
  "kernelspec": {
   "display_name": "Python 3 (ipykernel)",
   "language": "python",
   "name": "python3"
  },
  "language_info": {
   "codemirror_mode": {
    "name": "ipython",
    "version": 3
   },
   "file_extension": ".py",
   "mimetype": "text/x-python",
   "name": "python",
   "nbconvert_exporter": "python",
   "pygments_lexer": "ipython3",
   "version": "3.12.2"
  }
 },
 "nbformat": 4,
 "nbformat_minor": 5
}
